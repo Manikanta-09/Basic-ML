{
  "nbformat": 4,
  "nbformat_minor": 0,
  "metadata": {
    "colab": {
      "name": "First.ipynb",
      "provenance": [],
      "collapsed_sections": [],
      "authorship_tag": "ABX9TyPJ21BEucXyqlAI4Adli0fp",
      "include_colab_link": true
    },
    "kernelspec": {
      "name": "python3",
      "display_name": "Python 3"
    },
    "language_info": {
      "name": "python"
    }
  },
  "cells": [
    {
      "cell_type": "markdown",
      "metadata": {
        "id": "view-in-github",
        "colab_type": "text"
      },
      "source": [
        "<a href=\"https://colab.research.google.com/github/Manikanta-09/Basic-ML/blob/main/First.ipynb\" target=\"_parent\"><img src=\"https://colab.research.google.com/assets/colab-badge.svg\" alt=\"Open In Colab\"/></a>"
      ]
    },
    {
      "cell_type": "markdown",
      "metadata": {
        "id": "ocnWEe4J41QZ"
      },
      "source": [
        "**Odd or Even**\n",
        "\n",
        "\n",
        "this program prints whether the input number is Odd or Even"
      ]
    },
    {
      "cell_type": "code",
      "metadata": {
        "id": "Dc06gYXs5COp"
      },
      "source": [
        "n=int(input(\"Enter a number:\"))\n",
        "if(n%2==0):\n",
        "  print(\"Even\")\n",
        "else:\n",
        "  print(\"Odd\")"
      ],
      "execution_count": null,
      "outputs": []
    },
    {
      "cell_type": "markdown",
      "metadata": {
        "id": "CQh4qq4k5G5W"
      },
      "source": [
        "**Prime or Not**\n",
        "\n",
        "This program prints whether the input number is prime or not by checking whether it is divisible by numbers upto the n/2"
      ]
    },
    {
      "cell_type": "code",
      "metadata": {
        "colab": {
          "base_uri": "https://localhost:8080/"
        },
        "id": "cNWinjtO5QgJ",
        "outputId": "3f8f485b-363c-46ba-e20c-8185f7ac9e02"
      },
      "source": [
        "n=int(input(\"Enter a number:\"))\n",
        "for i in range(2,n//2):\n",
        "  if(n%i==0):\n",
        "    print(\"Not Prime\")\n",
        "    break\n",
        "else:\n",
        "  print(\"Prime\")"
      ],
      "execution_count": 3,
      "outputs": [
        {
          "output_type": "stream",
          "text": [
            "Enter a number:9\n",
            "Not Prime\n"
          ],
          "name": "stdout"
        }
      ]
    },
    {
      "cell_type": "markdown",
      "metadata": {
        "id": "2mr5Lto456nN"
      },
      "source": [
        "**Number of Digits**\n",
        "\n",
        "This program prints the number of digits in the input number by using a while loop"
      ]
    },
    {
      "cell_type": "code",
      "metadata": {
        "colab": {
          "base_uri": "https://localhost:8080/"
        },
        "id": "9MFn7sr06HkX",
        "outputId": "43420699-2172-495d-c357-9764e44520b8"
      },
      "source": [
        "n=int(input(\"Enter a number:\"))\n",
        "t=n\n",
        "d=0\n",
        "while(t !=0):\n",
        "  t=t//10\n",
        "  d+=1\n",
        "print(d)\n"
      ],
      "execution_count": 4,
      "outputs": [
        {
          "output_type": "stream",
          "text": [
            "Enter a number:928347\n",
            "6\n"
          ],
          "name": "stdout"
        }
      ]
    }
  ]
}